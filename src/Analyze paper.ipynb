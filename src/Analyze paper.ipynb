{
 "cells": [
  {
   "cell_type": "markdown",
   "id": "a02bab22",
   "metadata": {},
   "source": [
    "# Análisis de un artículo de investigación en PDF"
   ]
  },
  {
   "cell_type": "code",
   "execution_count": 1,
   "id": "5bbf1322",
   "metadata": {},
   "outputs": [],
   "source": [
    "from pdf_analytics import PdfAnalytics\n",
    "\n",
    "pa = PdfAnalytics('test/paper-01.pdf')\n"
   ]
  },
  {
   "cell_type": "markdown",
   "id": "3ce32a63",
   "metadata": {},
   "source": [
    "## Metadatos\n",
    "\n",
    "A continuación se irán mostrando los metadatos analizados.\n",
    "\n",
    "### Title"
   ]
  },
  {
   "cell_type": "code",
   "execution_count": 2,
   "id": "7346a8fa",
   "metadata": {
    "scrolled": true
   },
   "outputs": [
    {
     "name": "stdout",
     "output_type": "stream",
     "text": [
      "Título = Article CSFF-Net: Scene Text Detection Based on Cross-Scale Feature Fusion\n"
     ]
    }
   ],
   "source": [
    "titles = pa.title()\n",
    "if titles:\n",
    "    key = 'Título'\n",
    "    if len(titles) > 1:\n",
    "        key += 's'\n",
    "    values = ' ; '.join(titles)\n",
    "    print(f'{key} = {values}')\n",
    "else:\n",
    "    print('No tiene título.')"
   ]
  },
  {
   "cell_type": "markdown",
   "id": "74569dbe",
   "metadata": {},
   "source": [
    "### Creator"
   ]
  },
  {
   "cell_type": "code",
   "execution_count": 3,
   "id": "4205256f",
   "metadata": {},
   "outputs": [
    {
     "name": "stdout",
     "output_type": "stream",
     "text": [
      "Autores = Yuan Li ; Mayire Ibrayim ; Askar Hamdulla\n"
     ]
    }
   ],
   "source": [
    "creators = pa.creator()\n",
    "if creators:\n",
    "    key = 'Autor'\n",
    "    if len(creators) > 1:\n",
    "        key += 'es'\n",
    "    values = ' ; '.join(creators)\n",
    "    print(f'{key} = {values}')\n",
    "else:\n",
    "    print('No tiene autor.')"
   ]
  },
  {
   "cell_type": "markdown",
   "id": "786642b6",
   "metadata": {},
   "source": [
    "### Description"
   ]
  },
  {
   "cell_type": "code",
   "execution_count": 4,
   "id": "6ad1b28f",
   "metadata": {},
   "outputs": [
    {
     "name": "stdout",
     "output_type": "stream",
     "text": [
      "Descripción = In the last years, methods for detecting text in real scenes have made signiﬁcant progress with an increase in neural networks. However, due to the limitation of the receptive ﬁeld of the central nervous system and the simple representation of text by using rectangular bounding boxes, the previous methods may be insufﬁcient for working with more challenging instances of text. To solve this problem, this paper proposes a scene text detection network based on cross-scale feature fusion (CSFF-Net). The framework is based on the lightweight backbone network Resnet, and the feature learning is enhanced by embedding the depth weighted convolution module (DWCM) while retaining the original feature information extracted by CNN. At the same time, the 3D-Attention module is also introduced to merge the context information of adjacent areas, so as to reﬁne the features in each spatial size. In addition, because the Feature Pyramid Network (FPN) cannot completely solve the interdependence problem by simple element-wise addition to process crosslayer information ﬂow, this paper introduces a Cross-Level Feature Fusion Module (CLFFM) based on FPN, which is called Cross-Level Feature Pyramid Network (Cross-Level FPN). The proposed CLFFM can better handle cross-layer information ﬂow and output detailed feature information, thus improving the accuracy of text region detection. Compared to the original network framework, the framework provides a more advanced performance in detecting text images of complex scenes, and extensive experiments on three challenging datasets validate the realizability of our approach.\n"
     ]
    }
   ],
   "source": [
    "description = pa.description()\n",
    "if description:\n",
    "    values = '\\n'.join(description)\n",
    "    print(f'Descripción = {values}')\n",
    "else:\n",
    "    print('No tiene descripción/resumen.')"
   ]
  },
  {
   "cell_type": "markdown",
   "id": "2e70531d",
   "metadata": {},
   "source": [
    "### Subject"
   ]
  },
  {
   "cell_type": "code",
   "execution_count": 5,
   "id": "d58f2670",
   "metadata": {},
   "outputs": [
    {
     "name": "stdout",
     "output_type": "stream",
     "text": [
      "Asunto = feature extraction ; attention mechanism ; pyramid network ; deep learning ; text detection\n"
     ]
    }
   ],
   "source": [
    "subject = pa.subject()\n",
    "if subject:\n",
    "    values = ' ; '.join(subject)\n",
    "    print(f'Asunto = {values}')\n",
    "else:\n",
    "    print('No tiene asunto.')"
   ]
  },
  {
   "cell_type": "markdown",
   "id": "f27b379f",
   "metadata": {},
   "source": [
    "## Estadísticas\n",
    "\n",
    "Una serie de datos estadísticos del artículo.\n"
   ]
  },
  {
   "cell_type": "code",
   "execution_count": 6,
   "id": "c23e2534",
   "metadata": {},
   "outputs": [
    {
     "name": "stdout",
     "output_type": "stream",
     "text": [
      "Número de páginas = 19\n"
     ]
    }
   ],
   "source": [
    "print(f'Número de páginas = {pa.page_count()}')"
   ]
  },
  {
   "cell_type": "code",
   "execution_count": 7,
   "id": "9ce8be01",
   "metadata": {},
   "outputs": [
    {
     "name": "stdout",
     "output_type": "stream",
     "text": [
      "Número de tablas = 5\n"
     ]
    }
   ],
   "source": [
    "print(f'Número de tablas = {pa.table_count()}')"
   ]
  },
  {
   "cell_type": "code",
   "execution_count": 8,
   "id": "7e26ce84",
   "metadata": {},
   "outputs": [
    {
     "name": "stdout",
     "output_type": "stream",
     "text": [
      "Número de figuras = 9\n"
     ]
    }
   ],
   "source": [
    "print(f'Número de figuras = {pa.figure_count()}')"
   ]
  },
  {
   "cell_type": "code",
   "execution_count": 9,
   "id": "8d658041",
   "metadata": {},
   "outputs": [
    {
     "name": "stdout",
     "output_type": "stream",
     "text": [
      "Número de imágenes = 14\n"
     ]
    }
   ],
   "source": [
    "print(f'Número de imágenes = {pa.image_count()}')"
   ]
  },
  {
   "cell_type": "markdown",
   "id": "4771b47f",
   "metadata": {},
   "source": [
    "## Tablas\n",
    "\n",
    "Estadísticas"
   ]
  },
  {
   "cell_type": "code",
   "execution_count": 10,
   "id": "99722e56",
   "metadata": {},
   "outputs": [
    {
     "data": {
      "text/html": [
       "<div>\n",
       "<style scoped>\n",
       "    .dataframe tbody tr th:only-of-type {\n",
       "        vertical-align: middle;\n",
       "    }\n",
       "\n",
       "    .dataframe tbody tr th {\n",
       "        vertical-align: top;\n",
       "    }\n",
       "\n",
       "    .dataframe thead th {\n",
       "        text-align: right;\n",
       "    }\n",
       "</style>\n",
       "<table border=\"1\" class=\"dataframe\">\n",
       "  <thead>\n",
       "    <tr style=\"text-align: right;\">\n",
       "      <th></th>\n",
       "      <th>paper-01.pdf</th>\n",
       "    </tr>\n",
       "  </thead>\n",
       "  <tbody>\n",
       "    <tr>\n",
       "      <th>pages</th>\n",
       "      <td>19</td>\n",
       "    </tr>\n",
       "    <tr>\n",
       "      <th>figures</th>\n",
       "      <td>9</td>\n",
       "    </tr>\n",
       "    <tr>\n",
       "      <th>tables</th>\n",
       "      <td>5</td>\n",
       "    </tr>\n",
       "    <tr>\n",
       "      <th>images</th>\n",
       "      <td>14</td>\n",
       "    </tr>\n",
       "  </tbody>\n",
       "</table>\n",
       "</div>"
      ],
      "text/plain": [
       "         paper-01.pdf\n",
       "pages              19\n",
       "figures             9\n",
       "tables              5\n",
       "images             14"
      ]
     },
     "execution_count": 10,
     "metadata": {},
     "output_type": "execute_result"
    }
   ],
   "source": [
    "pa.stats_dataframe()"
   ]
  },
  {
   "cell_type": "markdown",
   "id": "4dcefa0f",
   "metadata": {},
   "source": [
    "Metadatos"
   ]
  },
  {
   "cell_type": "code",
   "execution_count": 11,
   "id": "65a0d989",
   "metadata": {},
   "outputs": [
    {
     "data": {
      "text/html": [
       "<style type=\"text/css\">\n",
       "#T_36599 th {\n",
       "  text-align: center;\n",
       "}\n",
       "#T_36599_row0_col0, #T_36599_row1_col0, #T_36599_row2_col0, #T_36599_row3_col0, #T_36599_row4_col0, #T_36599_row5_col0, #T_36599_row6_col0, #T_36599_row7_col0, #T_36599_row8_col0, #T_36599_row9_col0, #T_36599_row10_col0, #T_36599_row11_col0, #T_36599_row12_col0, #T_36599_row13_col0, #T_36599_row14_col0 {\n",
       "  text-align: left;\n",
       "}\n",
       "</style>\n",
       "<table id=\"T_36599\">\n",
       "  <thead>\n",
       "    <tr>\n",
       "      <th class=\"blank level0\" >&nbsp;</th>\n",
       "      <th id=\"T_36599_level0_col0\" class=\"col_heading level0 col0\" >paper-01.pdf</th>\n",
       "    </tr>\n",
       "  </thead>\n",
       "  <tbody>\n",
       "    <tr>\n",
       "      <th id=\"T_36599_level0_row0\" class=\"row_heading level0 row0\" >contributor</th>\n",
       "      <td id=\"T_36599_row0_col0\" class=\"data row0 col0\" >[]</td>\n",
       "    </tr>\n",
       "    <tr>\n",
       "      <th id=\"T_36599_level0_row1\" class=\"row_heading level0 row1\" >coverage</th>\n",
       "      <td id=\"T_36599_row1_col0\" class=\"data row1 col0\" >[]</td>\n",
       "    </tr>\n",
       "    <tr>\n",
       "      <th id=\"T_36599_level0_row2\" class=\"row_heading level0 row2\" >creator</th>\n",
       "      <td id=\"T_36599_row2_col0\" class=\"data row2 col0\" >['Yuan Li', 'Mayire Ibrayim', 'Askar Hamdulla']</td>\n",
       "    </tr>\n",
       "    <tr>\n",
       "      <th id=\"T_36599_level0_row3\" class=\"row_heading level0 row3\" >date</th>\n",
       "      <td id=\"T_36599_row3_col0\" class=\"data row3 col0\" >[]</td>\n",
       "    </tr>\n",
       "    <tr>\n",
       "      <th id=\"T_36599_level0_row4\" class=\"row_heading level0 row4\" >description</th>\n",
       "      <td id=\"T_36599_row4_col0\" class=\"data row4 col0\" >['In the last years, methods for detecting text in real scenes have made signiﬁcant progress with an increase in neural networks. However, due to the limitation of the receptive ﬁeld of the central nervous system and the simple representation of text by using rectangular bounding boxes, the previous methods may be insufﬁcient for working with more challenging instances of text. To solve this problem, this paper proposes a scene text detection network based on cross-scale feature fusion (CSFF-Net). The framework is based on the lightweight backbone network Resnet, and the feature learning is enhanced by embedding the depth weighted convolution module (DWCM) while retaining the original feature information extracted by CNN. At the same time, the 3D-Attention module is also introduced to merge the context information of adjacent areas, so as to reﬁne the features in each spatial size. In addition, because the Feature Pyramid Network (FPN) cannot completely solve the interdependence problem by simple element-wise addition to process crosslayer information ﬂow, this paper introduces a Cross-Level Feature Fusion Module (CLFFM) based on FPN, which is called Cross-Level Feature Pyramid Network (Cross-Level FPN). The proposed CLFFM can better handle cross-layer information ﬂow and output detailed feature information, thus improving the accuracy of text region detection. Compared to the original network framework, the framework provides a more advanced performance in detecting text images of complex scenes, and extensive experiments on three challenging datasets validate the realizability of our approach.']</td>\n",
       "    </tr>\n",
       "    <tr>\n",
       "      <th id=\"T_36599_level0_row5\" class=\"row_heading level0 row5\" >format</th>\n",
       "      <td id=\"T_36599_row5_col0\" class=\"data row5 col0\" >['application/pdf']</td>\n",
       "    </tr>\n",
       "    <tr>\n",
       "      <th id=\"T_36599_level0_row6\" class=\"row_heading level0 row6\" >identifier</th>\n",
       "      <td id=\"T_36599_row6_col0\" class=\"data row6 col0\" >[]</td>\n",
       "    </tr>\n",
       "    <tr>\n",
       "      <th id=\"T_36599_level0_row7\" class=\"row_heading level0 row7\" >language</th>\n",
       "      <td id=\"T_36599_row7_col0\" class=\"data row7 col0\" >['en']</td>\n",
       "    </tr>\n",
       "    <tr>\n",
       "      <th id=\"T_36599_level0_row8\" class=\"row_heading level0 row8\" >publisher</th>\n",
       "      <td id=\"T_36599_row8_col0\" class=\"data row8 col0\" >['LaTeX with hyperref']</td>\n",
       "    </tr>\n",
       "    <tr>\n",
       "      <th id=\"T_36599_level0_row9\" class=\"row_heading level0 row9\" >relation</th>\n",
       "      <td id=\"T_36599_row9_col0\" class=\"data row9 col0\" >[]</td>\n",
       "    </tr>\n",
       "    <tr>\n",
       "      <th id=\"T_36599_level0_row10\" class=\"row_heading level0 row10\" >rights</th>\n",
       "      <td id=\"T_36599_row10_col0\" class=\"data row10 col0\" >[]</td>\n",
       "    </tr>\n",
       "    <tr>\n",
       "      <th id=\"T_36599_level0_row11\" class=\"row_heading level0 row11\" >source</th>\n",
       "      <td id=\"T_36599_row11_col0\" class=\"data row11 col0\" >[]</td>\n",
       "    </tr>\n",
       "    <tr>\n",
       "      <th id=\"T_36599_level0_row12\" class=\"row_heading level0 row12\" >subject</th>\n",
       "      <td id=\"T_36599_row12_col0\" class=\"data row12 col0\" >['feature extraction', 'attention mechanism', 'pyramid network', 'deep learning', 'text detection']</td>\n",
       "    </tr>\n",
       "    <tr>\n",
       "      <th id=\"T_36599_level0_row13\" class=\"row_heading level0 row13\" >title</th>\n",
       "      <td id=\"T_36599_row13_col0\" class=\"data row13 col0\" >['Article CSFF-Net: Scene Text Detection Based on Cross-Scale Feature Fusion']</td>\n",
       "    </tr>\n",
       "    <tr>\n",
       "      <th id=\"T_36599_level0_row14\" class=\"row_heading level0 row14\" >type</th>\n",
       "      <td id=\"T_36599_row14_col0\" class=\"data row14 col0\" >[]</td>\n",
       "    </tr>\n",
       "  </tbody>\n",
       "</table>\n"
      ],
      "text/plain": [
       "<pandas.io.formats.style.Styler at 0x7f03766c20a0>"
      ]
     },
     "execution_count": 11,
     "metadata": {},
     "output_type": "execute_result"
    }
   ],
   "source": [
    "df = pa.dc_dataframe()\n",
    "df = df.style.set_properties(**{'text-align': 'left'})\n",
    "df.set_table_styles([dict(selector='th', props=[('text-align', 'center')])])\n",
    "df"
   ]
  },
  {
   "cell_type": "markdown",
   "id": "4ca12902",
   "metadata": {},
   "source": [
    "## Gráficas\n",
    "\n",
    "Nube de palabras:"
   ]
  },
  {
   "cell_type": "code",
   "execution_count": 12,
   "id": "14c07296",
   "metadata": {},
   "outputs": [
    {
     "data": {
      "image/png": "[encoded data removed]",
      "text/plain": [
       "<Figure size 432x288 with 1 Axes>"
      ]
     },
     "metadata": {
      "needs_background": "light"
     },
     "output_type": "display_data"
    }
   ],
   "source": [
    "from wordcloud import WordCloud\n",
    "import matplotlib.pyplot as plt\n",
    "\n",
    "text = pa._reader.text()\n",
    "wordcloud = WordCloud(max_font_size=100, max_words=25, background_color=\"white\").generate(text)\n",
    "\n",
    "plt.imshow(wordcloud, interpolation='bilinear')\n",
    "plt.axis(\"off\")\n",
    "plt.show()"
   ]
  },
  {
   "cell_type": "code",
   "execution_count": null,
   "id": "b0be544e",
   "metadata": {},
   "outputs": [],
   "source": []
  }
 ],
 "metadata": {
  "kernelspec": {
   "display_name": "Python 3 (ipykernel)",
   "language": "python",
   "name": "python3"
  },
  "language_info": {
   "codemirror_mode": {
    "name": "ipython",
    "version": 3
   },
   "file_extension": ".py",
   "mimetype": "text/x-python",
   "name": "python",
   "nbconvert_exporter": "python",
   "pygments_lexer": "ipython3",
   "version": "3.9.12"
  }
 },
 "nbformat": 4,
 "nbformat_minor": 5
}
